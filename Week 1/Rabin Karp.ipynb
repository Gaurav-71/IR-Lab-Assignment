{
 "cells": [
  {
   "cell_type": "code",
   "execution_count": 3,
   "metadata": {},
   "outputs": [
    {
     "name": "stdout",
     "output_type": "stream",
     "text": [
      "Pattern found at index 0\n",
      "Pattern found at index 10\n"
     ]
    }
   ],
   "source": [
    "d = 256\n",
    "\n",
    "\n",
    "def search(pat, txt, q): \n",
    "\tM = len(pat) \n",
    "\tN = len(txt) \n",
    "\ti = 0\n",
    "\tj = 0\n",
    "\tp = 0  \n",
    "\tt = 0 \n",
    "\th = 1\n",
    "\n",
    " \n",
    "\tfor i in range(M-1): \n",
    "\t\th = (h * d)% q \n",
    "\n",
    "\tfor i in range(M): \n",
    "\t\tp = (d * p + ord(pat[i]))% q \n",
    "\t\tt = (d * t + ord(txt[i]))% q \n",
    "\n",
    "\tfor i in range(N-M + 1): \n",
    " \n",
    "\t\tif p == t: \n",
    "\t\t\tfor j in range(M): \n",
    "\t\t\t\tif txt[i + j] != pat[j]: \n",
    "\t\t\t\t\tbreak\n",
    "\n",
    "\t\t\tj+= 1\n",
    "\n",
    "\t\t\tif j == M: \n",
    "\t\t\t\tprint(\"Pattern found at index \" + str(i)) \n",
    "\n",
    "\t\tif i < N-M: \n",
    "\t\t\tt = (d*(t-ord(txt[i])*h) + ord(txt[i + M]))% q \n",
    "\n",
    "\t\t\tif t < 0: \n",
    "\t\t\t\tt = t + q \n",
    "\n",
    "txt = \"GEEKS FOR GEEKS\"\n",
    "pat = \"GEEK\"\n",
    "q = 101\n",
    "search(pat, txt, q) "
   ]
  },
  {
   "cell_type": "code",
   "execution_count": null,
   "metadata": {},
   "outputs": [],
   "source": []
  }
 ],
 "metadata": {
  "kernelspec": {
   "display_name": "Python 3.7.3 64-bit",
   "language": "python",
   "name": "python37364bit6d30391cc7884e3db6feb1dd3117697c"
  },
  "language_info": {
   "codemirror_mode": {
    "name": "ipython",
    "version": 3
   },
   "file_extension": ".py",
   "mimetype": "text/x-python",
   "name": "python",
   "nbconvert_exporter": "python",
   "pygments_lexer": "ipython3",
   "version": "3.7.3"
  }
 },
 "nbformat": 4,
 "nbformat_minor": 4
}
