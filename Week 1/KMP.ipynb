{
 "cells": [
  {
   "cell_type": "code",
   "execution_count": 2,
   "metadata": {},
   "outputs": [
    {
     "name": "stdout",
     "output_type": "stream",
     "text": [
      "Found pattern at index 10\n"
     ]
    }
   ],
   "source": [
    "def KMPSearch(pat, txt): \n",
    "\tM = len(pat) \n",
    "\tN = len(txt) \n",
    "\tlps = [0]*M \n",
    "\tj = 0 \n",
    "\tcomputeLPSArray(pat, M, lps) \n",
    "\n",
    "\ti = 0 \n",
    "\twhile i < N: \n",
    "\t\tif pat[j] == txt[i]: \n",
    "\t\t\ti += 1\n",
    "\t\t\tj += 1\n",
    "\n",
    "\t\tif j == M: \n",
    "\t\t\tprint(\"Found pattern at index \" + str(i-j)) \n",
    "\t\t\tj = lps[j-1] \n",
    "\t\telif i < N and pat[j] != txt[i]: \n",
    "\n",
    "\t\t\tif j != 0: \n",
    "\t\t\t\tj = lps[j-1] \n",
    "\t\t\telse: \n",
    "\t\t\t\ti += 1\n",
    "\n",
    "def computeLPSArray(pat, M, lps): \n",
    "\tlen = 0\n",
    "\n",
    "\tlps[0]\n",
    "\ti = 1\n",
    " \n",
    "\twhile i < M: \n",
    "\t\tif pat[i]== pat[len]: \n",
    "\t\t\tlen += 1\n",
    "\t\t\tlps[i] = len\n",
    "\t\t\ti += 1\n",
    "\t\telse: \n",
    " \n",
    "\t\t\tif len != 0: \n",
    "\t\t\t\tlen = lps[len-1] \n",
    "\n",
    "\t\t\telse: \n",
    "\t\t\t\tlps[i] = 0\n",
    "\t\t\t\ti += 1\n",
    "\n",
    "txt = \"ABABDABACDABABCABAB\"\n",
    "pat = \"ABABCABAB\"\n",
    "KMPSearch(pat, txt) "
   ]
  },
  {
   "cell_type": "code",
   "execution_count": null,
   "metadata": {},
   "outputs": [],
   "source": []
  }
 ],
 "metadata": {
  "kernelspec": {
   "display_name": "Python 3.7.3 64-bit",
   "language": "python",
   "name": "python37364bit6d30391cc7884e3db6feb1dd3117697c"
  },
  "language_info": {
   "codemirror_mode": {
    "name": "ipython",
    "version": 3
   },
   "file_extension": ".py",
   "mimetype": "text/x-python",
   "name": "python",
   "nbconvert_exporter": "python",
   "pygments_lexer": "ipython3",
   "version": "3.7.3"
  }
 },
 "nbformat": 4,
 "nbformat_minor": 4
}
