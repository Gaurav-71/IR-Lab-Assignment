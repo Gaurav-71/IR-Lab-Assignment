{
 "cells": [
  {
   "cell_type": "code",
   "execution_count": 1,
   "metadata": {},
   "outputs": [],
   "source": [
    "def pres_rec(rq, aq):\n",
    "    x = []\n",
    "    n_rel = 0\n",
    "    for i in range(1, len(aq)+1):\n",
    "        term = aq[i-1]\n",
    "        if(term in rq):\n",
    "            n_rel = n_rel + 1\n",
    "            pres = n_rel/i\n",
    "            rec = n_rel/len(rq)\n",
    "            pres = round(pres*100, 2)\n",
    "            rec = round(rec*100, 2)\n",
    "            x.append([rec, pres])\n",
    "\n",
    "    return x"
   ]
  },
  {
   "cell_type": "code",
   "execution_count": 2,
   "metadata": {},
   "outputs": [],
   "source": [
    "def next_grt(i, rec):\n",
    "    for x in rec:\n",
    "        if x[0] >= i:\n",
    "            return x[1]\n",
    "    return 0"
   ]
  },
  {
   "cell_type": "code",
   "execution_count": 3,
   "metadata": {},
   "outputs": [],
   "source": [
    "def interp(inp):\n",
    "    x = list(range(10, (10 * 10)+1, 10))\n",
    "    x.insert(0, 0)\n",
    "    rec, pres = zip(*inp)\n",
    "    res = []\n",
    "    for i in x:\n",
    "        pr = next_grt(i, inp)\n",
    "        res.append([i, pr])\n",
    "    \n",
    "    return res"
   ]
  },
  {
   "cell_type": "code",
   "execution_count": 4,
   "metadata": {},
   "outputs": [],
   "source": [
    "def average_pres(inp):\n",
    "    sum = 0\n",
    "    count = 0\n",
    "    rec, pres = zip(*inp)\n",
    "    res = []\n",
    "    for x in pres:\n",
    "        sum = sum + x\n",
    "        count = count + 1\n",
    "        res.append(round(sum/count, 2))\n",
    "        \n",
    "    return res"
   ]
  },
  {
   "cell_type": "code",
   "execution_count": 5,
   "metadata": {},
   "outputs": [],
   "source": [
    "def r_pres(rq, aq):\n",
    "    n_rel = 0\n",
    "    for i in range(len(rq)):\n",
    "        if aq[i] in rq:\n",
    "            n_rel = n_rel + 1\n",
    "    \n",
    "    pres = n_rel/len(rq)\n",
    "    return pres\n",
    "    "
   ]
  },
  {
   "cell_type": "code",
   "execution_count": 7,
   "metadata": {},
   "outputs": [
    {
     "name": "stdout",
     "output_type": "stream",
     "text": [
      "[[5.0, 33.33], [10.0, 33.33], [15.0, 30.0], [20.0, 26.67], [25.0, 26.32], [30.0, 30.0], [35.0, 31.82], [40.0, 34.78], [45.0, 36.0]]\n",
      "\n",
      "[[0, 33.33], [10, 33.33], [20, 26.67], [30, 30.0], [40, 34.78], [50, 0], [60, 0], [70, 0], [80, 0], [90, 0], [100, 0]]\n",
      "\n",
      "[33.33, 33.33, 32.22, 30.83, 29.93, 29.94, 30.21, 30.78, 31.36]\n",
      "\n",
      "0.3\n"
     ]
    },
    {
     "data": {
      "image/png": "[encoded data removed]",
      "text/plain": [
       "<Figure size 432x288 with 1 Axes>"
      ]
     },
     "metadata": {
      "needs_background": "light"
     },
     "output_type": "display_data"
    }
   ],
   "source": [
    "# Example 1\n",
    "\n",
    "rq = [3, 5, 9, 25, 39, 44, 56 , 9, 25, 39, 44, 56, 71, 89, 94, 105, 119, 124, 136, 144]\n",
    "aq = [123, 84, 56, 6, 8, 9, 511, 129, 187, 25, 38, 48, 250, 113 , 44, 99, 95, 214, 136, 39, 128, 25, 71, 14, 5]\n",
    "\n",
    "rp = pres_rec(rq, aq)\n",
    "inp = interp(rp)\n",
    "avg = average_pres(rp)\n",
    "r_precission = r_pres(rq, aq)\n",
    "\n",
    "print(rp)\n",
    "print()\n",
    "print(inp)\n",
    "print()\n",
    "print(avg)\n",
    "print()\n",
    "print(r_precission)\n",
    "\n",
    "\n",
    "\n",
    "import matplotlib.pyplot as plt\n",
    "x, y = zip(*inp)\n",
    "plt.plot(x, y)\n",
    "plt.show()"
   ]
  },
  {
   "cell_type": "code",
   "execution_count": 12,
   "metadata": {},
   "outputs": [
    {
     "data": {
      "text/plain": [
       "[<matplotlib.lines.Line2D at 0x1ecd5affb80>]"
      ]
     },
     "execution_count": 12,
     "metadata": {},
     "output_type": "execute_result"
    },
    {
     "data": {
      "image/png": "[encoded data removed]",
      "text/plain": [
       "<Figure size 432x288 with 1 Axes>"
      ]
     },
     "metadata": {
      "needs_background": "light"
     },
     "output_type": "display_data"
    }
   ],
   "source": [
    "#Example 2\n",
    "\n",
    "rq1 = [3,5, 9,25,39,44,56 ,9,25,39,44,56,71,89,94,105,119,124,136, 144]\n",
    "aq1 = [123,84,56,6,8,9,511,129,187,25,38,48,250,113 ,44,99,95,214,136,39,128,25,71,14,5]\n",
    "inp1 = interp(pres_rec(rq1, aq1))\n",
    "x1, y1 = zip(*inp1)\n",
    "\n",
    "rq2 = [4,6, 10,26,40,45,57, 11,26,41,45,57,72,90,95,106,120,125,137, 145]\n",
    "aq2 = [123,40,56,6,8,10,511,129,45,26,38,48,250,113 ,44,90,95,214,136,145,128,25,72,14,5]\n",
    "inp2 = interp(pres_rec(rq2, aq2))\n",
    "x2, y2 = zip(*inp2)\n",
    "\n",
    "plt.plot(x1, y1, marker = '+')\n",
    "plt.plot(x2, y2, color = 'red', marker = 'o')"
   ]
  },
  {
   "cell_type": "code",
   "execution_count": 18,
   "metadata": {},
   "outputs": [
    {
     "name": "stdout",
     "output_type": "stream",
     "text": [
      "0.08695538742499348 0.9130446125750065 0.7826115314375163 0.9456528828593791\n"
     ]
    }
   ],
   "source": [
    "d56 = rp[0]\n",
    "r1 = d56[0]/100\n",
    "p1 = d56[1]/100\n",
    "\n",
    "hm1 = 2/((1/r1) + (1/p1))\n",
    "em11 = 1 - hm1 #b = 1\n",
    "em12 = 1 - ((1 + 0.5**2)/((0.5**2)/r1 + (0.5**2)/p1))\n",
    "em13 = 1 - ((1 + 2**2)/((2**2)/r1 + (2**2)/p1))\n",
    "\n",
    "print(hm1, em11, em12, em13)"
   ]
  },
  {
   "cell_type": "code",
   "execution_count": 23,
   "metadata": {},
   "outputs": [
    {
     "name": "stdout",
     "output_type": "stream",
     "text": [
      "0.3 0.7 0.25 0.8125\n"
     ]
    }
   ],
   "source": [
    "d39 = rp[5]\n",
    "r1 = d39[0]/100\n",
    "p1 = d39[1]/100\n",
    "\n",
    "hm2 = 2/((1/r1) + (1/p1))\n",
    "em21 = 1 - hm2 #b = 1\n",
    "em22 = 1 - ((1 + 0.5**2)/((0.5**2)/r1 + (0.5**2)/p1))\n",
    "em23 = 1 - ((1 + 2**2)/((2**2)/r1 + (2**2)/p1))\n",
    "\n",
    "print(hm2, em21, em22, em23)"
   ]
  },
  {
   "cell_type": "code",
   "execution_count": null,
   "metadata": {},
   "outputs": [],
   "source": []
  }
 ],
 "metadata": {
  "kernelspec": {
   "display_name": "Python 3",
   "language": "python",
   "name": "python3"
  },
  "language_info": {
   "codemirror_mode": {
    "name": "ipython",
    "version": 3
   },
   "file_extension": ".py",
   "mimetype": "text/x-python",
   "name": "python",
   "nbconvert_exporter": "python",
   "pygments_lexer": "ipython3",
   "version": "3.8.3"
  }
 },
 "nbformat": 4,
 "nbformat_minor": 4
}
