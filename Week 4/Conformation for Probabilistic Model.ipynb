{
 "cells": [
  {
   "cell_type": "code",
   "execution_count": 1,
   "metadata": {},
   "outputs": [],
   "source": [
    "text = [['a', 'b', 'c', 'b', 'd'],['b','e','f','b'], ['b','g','c','d'], ['b','d','e'], ['a','b','e','g'], ['b','g','h']]"
   ]
  },
  {
   "cell_type": "code",
   "execution_count": 12,
   "metadata": {},
   "outputs": [],
   "source": [
    "from collections import defaultdict\n",
    "#initial_dict = {1 : 0, 2 : 0, 3 : 0, 4 : 0, 5 : 0, 6 : 0, 7 : 0, 8 : 0, 9 : 0, 10 : 0, }\n",
    "\n",
    "def create_index (data):\n",
    "    index = defaultdict(list)\n",
    "    for i, tokens in enumerate(data):\n",
    "        for token in tokens:\n",
    "            if(index[token]):\n",
    "                index[token][0][0] = index[token][0][0] + 1\n",
    "                if i in index[token][1].keys():\n",
    "                    index[token][1][i] = index[token][1][i] + 1\n",
    "                else:\n",
    "                    index[token][1][i] = 1\n",
    "            else:\n",
    "                index[token] = [[1], {i : 1}]\n",
    "            \n",
    "    return index"
   ]
  },
  {
   "cell_type": "code",
   "execution_count": 18,
   "metadata": {},
   "outputs": [],
   "source": [
    "index = create_index(text)\n",
    "vocab = list(index.keys())"
   ]
  },
  {
   "cell_type": "code",
   "execution_count": 22,
   "metadata": {},
   "outputs": [
    {
     "name": "stdout",
     "output_type": "stream",
     "text": [
      "[[2], {0: 1, 4: 1}] 1.8\n",
      "[[8], {0: 2, 1: 2, 2: 1, 3: 1, 4: 1, 5: 1}] 0.07692307692307693\n",
      "[[2], {0: 1, 2: 1}] 1.8\n",
      "[[3], {0: 1, 2: 1, 3: 1}] 1.0\n",
      "[[3], {1: 1, 3: 1, 4: 1}] 1.0\n",
      "[[1], {1: 1}] 3.6666666666666665\n",
      "[[3], {2: 1, 4: 1, 5: 1}] 1.0\n",
      "[[1], {5: 1}] 3.6666666666666665\n"
     ]
    }
   ],
   "source": [
    "import numpy as np\n",
    "n_vec = np.zeros(len(vocab))\n",
    "for key in index:\n",
    "    term = index[key]\n",
    "    nw = len(term[1].keys())\n",
    "    net = (6 - nw + 0.5)/(nw + 0.5)\n",
    "    print(term, net)\n",
    "    i = vocab.index(key)\n",
    "    n_vec[i] = net\n",
    "    "
   ]
  },
  {
   "cell_type": "code",
   "execution_count": 23,
   "metadata": {},
   "outputs": [],
   "source": [
    "query = ['a', 'c', 'h']"
   ]
  },
  {
   "cell_type": "code",
   "execution_count": 25,
   "metadata": {},
   "outputs": [],
   "source": [
    "ranking = []\n",
    "\n",
    "for i in range(0, 6):\n",
    "    ranking.append([1, i+1])\n",
    "\n",
    "    \n",
    "for key in query:\n",
    "    term = index[key]\n",
    "    i = vocab.index(key)\n",
    "    net = n_vec[i]\n",
    "    for doc_num in term[1].keys():\n",
    "        ranking[doc_num][0] = ranking[doc_num][0]*net"
   ]
  },
  {
   "cell_type": "code",
   "execution_count": 26,
   "metadata": {},
   "outputs": [
    {
     "name": "stdout",
     "output_type": "stream",
     "text": [
      "[[3.6666666666666665, 6], [3.24, 1], [1.8, 5], [1.8, 3], [1, 4], [1, 2]]\n"
     ]
    }
   ],
   "source": [
    "ranking.sort(reverse = True)\n",
    "print(ranking)"
   ]
  },
  {
   "cell_type": "code",
   "execution_count": null,
   "metadata": {},
   "outputs": [],
   "source": []
  }
 ],
 "metadata": {
  "kernelspec": {
   "display_name": "Python 3",
   "language": "python",
   "name": "python3"
  },
  "language_info": {
   "codemirror_mode": {
    "name": "ipython",
    "version": 3
   },
   "file_extension": ".py",
   "mimetype": "text/x-python",
   "name": "python",
   "nbconvert_exporter": "python",
   "pygments_lexer": "ipython3",
   "version": "3.8.3"
  }
 },
 "nbformat": 4,
 "nbformat_minor": 4
}
