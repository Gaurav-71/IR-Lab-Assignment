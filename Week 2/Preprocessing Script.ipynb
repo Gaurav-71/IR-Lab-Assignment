{
 "cells": [
  {
   "cell_type": "code",
   "execution_count": 1,
   "metadata": {},
   "outputs": [],
   "source": [
    "import numpy as np\n",
    "import pandas as pd\n",
    "import nltk\n",
    "from nltk.corpus import stopwords\n",
    "from nltk.tokenize import word_tokenize\n",
    "from nltk.stem import PorterStemmer \n",
    "from nltk.tokenize import word_tokenize "
   ]
  },
  {
   "cell_type": "code",
   "execution_count": 2,
   "metadata": {},
   "outputs": [],
   "source": [
    "def preprocess(fname):\n",
    "    lt = open(\"../Downloads/Inverted Index/\" + fname + \".txt\")\n",
    "    x = \"\"\n",
    "    \n",
    "    for line in lt:\n",
    "        line = ''.join(e for e in line if e.isalnum() or e == ' ')\n",
    "        line = line + \"\\n\"\n",
    "        x = x + line\n",
    "    \n",
    "    text_tokens = word_tokenize(x)\n",
    "    tokens_without_sw = [word for word in text_tokens if not word in stopwords.words()]\n",
    "    \n",
    "    x = \"\"\n",
    "    for token in tokens_without_sw:\n",
    "        x = x + token + \" \"\n",
    "    \n",
    "    ps = PorterStemmer() \n",
    "  \n",
    "    text_tokens = word_tokenize(x)\n",
    "\n",
    "    final_text = \"\"  \n",
    "    for w in text_tokens: \n",
    "        final_text = final_text + ps.stem(w) + \" \"\n",
    "    \n",
    "    print(\"Finished\" + fname)\n",
    "\n",
    "    return final_text"
   ]
  },
  {
   "cell_type": "code",
   "execution_count": 3,
   "metadata": {},
   "outputs": [],
   "source": [
    "def query(query):\n",
    "    line = query\n",
    "    \n",
    "    \n",
    "    line = ''.join(e for e in line if e.isalnum() or e == ' ')\n",
    "    \n",
    "    text_tokens = word_tokenize(line)\n",
    "    tokens_without_sw = [word for word in text_tokens if not word in stopwords.words()]\n",
    "    \n",
    "    x = \"\"\n",
    "    for token in tokens_without_sw:\n",
    "        x = x + token + \" \"\n",
    "    \n",
    "    ps = PorterStemmer() \n",
    "  \n",
    "    text_tokens = word_tokenize(x)\n",
    "\n",
    "    final_text = \"\"  \n",
    "    for w in text_tokens: \n",
    "        final_text = final_text + ps.stem(w) + \" \"\n",
    "\n",
    "    return final_text"
   ]
  },
  {
   "cell_type": "code",
   "execution_count": null,
   "metadata": {},
   "outputs": [],
   "source": []
  }
 ],
 "metadata": {
  "kernelspec": {
   "display_name": "Python 3",
   "language": "python",
   "name": "python3"
  },
  "language_info": {
   "codemirror_mode": {
    "name": "ipython",
    "version": 3
   },
   "file_extension": ".py",
   "mimetype": "text/x-python",
   "name": "python",
   "nbconvert_exporter": "python",
   "pygments_lexer": "ipython3",
   "version": "3.8.3"
  }
 },
 "nbformat": 4,
 "nbformat_minor": 4
}
