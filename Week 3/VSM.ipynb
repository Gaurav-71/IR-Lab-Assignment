{
 "cells": [
  {
   "cell_type": "code",
   "execution_count": 1,
   "metadata": {},
   "outputs": [
    {
     "name": "stdout",
     "output_type": "stream",
     "text": [
      "importing Jupyter notebook from Week2.ipynb\n"
     ]
    }
   ],
   "source": [
    "import pickle\n",
    "import import_ipynb\n",
    "import Week2\n",
    "from nltk.tokenize import word_tokenize"
   ]
  },
  {
   "cell_type": "code",
   "execution_count": 2,
   "metadata": {},
   "outputs": [],
   "source": [
    "index = None\n",
    "vocab = None\n",
    "doc_lens = None\n",
    "with open('vocab','rb') as fp:\n",
    "    vocab = pickle.load(fp)\n",
    "with open('index','rb') as fp:\n",
    "    index = pickle.load(fp)\n",
    "with open('doc_lens', 'rb') as fp:\n",
    "    doc_lens = pickle.load(fp)"
   ]
  },
  {
   "cell_type": "code",
   "execution_count": 3,
   "metadata": {},
   "outputs": [
    {
     "data": {
      "text/plain": [
       "[[88], {0: 3, 3: 1, 9: 84}]"
      ]
     },
     "execution_count": 3,
     "metadata": {},
     "output_type": "execute_result"
    }
   ],
   "source": [
    "index['project']"
   ]
  },
  {
   "cell_type": "code",
   "execution_count": 4,
   "metadata": {},
   "outputs": [
    {
     "name": "stdout",
     "output_type": "stream",
     "text": [
      "5431\n",
      "5431\n",
      "[5963, 1838, 1064, 1592, 2062, 5056, 6460, 1704, 5073, 3881]\n"
     ]
    }
   ],
   "source": [
    "print(len(vocab))\n",
    "print(len(index.keys()))\n",
    "print(doc_lens)"
   ]
  },
  {
   "cell_type": "code",
   "execution_count": 5,
   "metadata": {},
   "outputs": [
    {
     "name": "stdout",
     "output_type": "stream",
     "text": [
      "[[0. 0. 0. ... 0. 0. 0.]\n",
      " [0. 0. 0. ... 0. 0. 0.]\n",
      " [0. 0. 0. ... 0. 0. 0.]\n",
      " ...\n",
      " [0. 0. 0. ... 0. 0. 0.]\n",
      " [0. 0. 0. ... 0. 0. 0.]\n",
      " [0. 0. 0. ... 0. 0. 0.]]\n"
     ]
    }
   ],
   "source": [
    "import numpy as np\n",
    "matrix = np.zeros((10, len(vocab)))\n",
    "print(matrix)"
   ]
  },
  {
   "cell_type": "code",
   "execution_count": 6,
   "metadata": {},
   "outputs": [],
   "source": [
    "def find_tf():\n",
    "    for key in index:\n",
    "        term = index[key]\n",
    "        for tf in term[1].keys():\n",
    "            term_freq = term[1][tf]\n",
    "            i = vocab.index(key)\n",
    "            matrix[tf][i] = term_freq/doc_lens[tf]"
   ]
  },
  {
   "cell_type": "code",
   "execution_count": 7,
   "metadata": {},
   "outputs": [
    {
     "name": "stdout",
     "output_type": "stream",
     "text": [
      "[[0.0005031  0.0005031  0.0008385  ... 0.         0.         0.        ]\n",
      " [0.         0.         0.         ... 0.         0.         0.        ]\n",
      " [0.         0.         0.         ... 0.         0.         0.        ]\n",
      " ...\n",
      " [0.         0.         0.         ... 0.         0.         0.        ]\n",
      " [0.         0.         0.         ... 0.         0.         0.        ]\n",
      " [0.02164391 0.00695697 0.00334965 ... 0.00025767 0.00025767 0.00025767]]\n",
      "[0. 0. 0. ... 0. 0. 0.]\n"
     ]
    }
   ],
   "source": [
    "find_tf()\n",
    "print(matrix)\n",
    "idf_matrix = np.zeros(len(vocab))\n",
    "print(idf_matrix)"
   ]
  },
  {
   "cell_type": "code",
   "execution_count": 8,
   "metadata": {},
   "outputs": [],
   "source": [
    "def find_idf():\n",
    "    for key in index:\n",
    "        term = index[key]\n",
    "        idf = len(term[1].keys())\n",
    "        res = np.log10(10/idf)\n",
    "        i = vocab.index(key)\n",
    "        idf_matrix[i] = res"
   ]
  },
  {
   "cell_type": "code",
   "execution_count": 9,
   "metadata": {},
   "outputs": [],
   "source": [
    "find_idf()"
   ]
  },
  {
   "cell_type": "code",
   "execution_count": 10,
   "metadata": {},
   "outputs": [
    {
     "name": "stdout",
     "output_type": "stream",
     "text": [
      "[[0.00026306 0.00035165 0.00058609 ... 0.         0.         0.        ]\n",
      " [0.         0.         0.         ... 0.         0.         0.        ]\n",
      " [0.         0.         0.         ... 0.         0.         0.        ]\n",
      " ...\n",
      " [0.         0.         0.         ... 0.         0.         0.        ]\n",
      " [0.         0.         0.         ... 0.         0.         0.        ]\n",
      " [0.01131714 0.00486271 0.00234131 ... 0.00025767 0.00025767 0.00025767]]\n"
     ]
    }
   ],
   "source": [
    "tf_idf = matrix*idf_matrix\n",
    "print(tf_idf)"
   ]
  },
  {
   "cell_type": "code",
   "execution_count": 11,
   "metadata": {},
   "outputs": [],
   "source": [
    "from collections import Counter\n",
    "def query_tf_idf(query):\n",
    "    counter = Counter(query)\n",
    "    wc = len(query)\n",
    "    tfm = np.zeros(len(vocab))\n",
    "    idfm = np.zeros(len(vocab))\n",
    "    for token in np.unique(query):\n",
    "        tf = counter[token]/wc\n",
    "        i = vocab.index(token)\n",
    "        idfm = idf_matrix[i]\n",
    "        tfm[i] = tf\n",
    "    return(tfm*idfm)"
   ]
  },
  {
   "cell_type": "code",
   "execution_count": 12,
   "metadata": {},
   "outputs": [],
   "source": [
    "query = \"A somewhat higher level on the inclined plane is illustrated by what are called tropisms obligatory movements which the animal makes, adjusting its whole body so that physiological equilibrium results in relation to gravity, pressure, currents, moisture, heat, light, electricity, and surfaces of contact. A moth is flying past a candle; the eye next the light is more illumined than the other; a physiological inequilibrium results, affecting nerve-cells and muscle-cells; the outcome is that the moth automatically adjusts its flight so that both eyes become equally illumined; in doing this it often flies into the candle.\"\n",
    "query = Week2.query(query)\n",
    "query = word_tokenize(query)\n",
    "query_matrix = query_tf_idf(query)"
   ]
  },
  {
   "cell_type": "code",
   "execution_count": 13,
   "metadata": {},
   "outputs": [],
   "source": [
    "ranking = []\n",
    "for i in range(0, 10):\n",
    "    row = tf_idf[i]\n",
    "    rank = np.dot(row, np.transpose(query_matrix))/(np.linalg.norm(row)*np.linalg.norm(query_matrix))\n",
    "    ranking.append([rank, i + 1])"
   ]
  },
  {
   "cell_type": "code",
   "execution_count": 14,
   "metadata": {},
   "outputs": [
    {
     "name": "stdout",
     "output_type": "stream",
     "text": [
      "[[0.17095819993793498, 6], [0.08749999946608858, 7], [0.059803234253092995, 9], [0.04263802915754703, 2], [0.03772075156734901, 1], [0.027447933174219816, 5], [0.024697211710131783, 4], [0.020657048627909905, 8], [0.019254623436106455, 3], [0.01511071480789552, 10]]\n"
     ]
    }
   ],
   "source": [
    "ranking.sort(reverse = True)\n",
    "print(ranking)"
   ]
  },
  {
   "cell_type": "code",
   "execution_count": 25,
   "metadata": {},
   "outputs": [],
   "source": [
    "ranking = []\n",
    "x_matrix = tf_idf[2]\n",
    "for i in range(0, 10):\n",
    "    if(i!= 2):\n",
    "        row = tf_idf[i]\n",
    "        rank = np.dot(row, np.transpose(x_matrix))/(np.linalg.norm(row)*np.linalg.norm(x_matrix))\n",
    "        ranking.append([rank])"
   ]
  },
  {
   "cell_type": "code",
   "execution_count": 26,
   "metadata": {},
   "outputs": [
    {
     "name": "stdout",
     "output_type": "stream",
     "text": [
      "[[0.13426602493169734], [0.13278954182099384], [0.10593716973328518], [0.07770672542940116], [0.04901278829310735], [0.045866021419684655], [0.03926671172575528], [0.036671773303474896], [0.02510436278823775]]\n"
     ]
    }
   ],
   "source": [
    "ranking.sort(reverse = True)\n",
    "print(ranking)"
   ]
  },
  {
   "cell_type": "code",
   "execution_count": null,
   "metadata": {},
   "outputs": [],
   "source": []
  }
 ],
 "metadata": {
  "kernelspec": {
   "display_name": "Python 3",
   "language": "python",
   "name": "python3"
  },
  "language_info": {
   "codemirror_mode": {
    "name": "ipython",
    "version": 3
   },
   "file_extension": ".py",
   "mimetype": "text/x-python",
   "name": "python",
   "nbconvert_exporter": "python",
   "pygments_lexer": "ipython3",
   "version": "3.8.3"
  }
 },
 "nbformat": 4,
 "nbformat_minor": 4
}
